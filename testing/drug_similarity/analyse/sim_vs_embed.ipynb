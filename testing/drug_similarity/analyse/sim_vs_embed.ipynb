{
 "cells": [
  {
   "cell_type": "code",
   "execution_count": 13,
   "metadata": {},
   "outputs": [],
   "source": [
    "import pandas as pd\n",
    "import seaborn as sns\n",
    "import matplotlib.pyplot as plt\n",
    "from scipy.stats import pearsonr"
   ]
  },
  {
   "cell_type": "code",
   "execution_count": 30,
   "metadata": {},
   "outputs": [],
   "source": [
    "# Load similarity data \n",
    "drug_sim = pd.read_csv('drug_fingerprint_sims.csv')\n",
    "drug_sim['dyad'] = [frozenset([row.drug1, row.drug2]) for i, row in drug_sim.iterrows()]\n",
    "\n",
    "# Load vector data\n",
    "embed_cosine = pd.read_csv('drug_cosines.csv')\n",
    "embed_cosine['dyad'] = [frozenset([row.drug1, row.drug2]) for i, row in embed_cosine.iterrows()]\n",
    "\n",
    "# Merge data\n",
    "df = drug_sim.merge(embed_cosine, on='dyad')"
   ]
  },
  {
   "cell_type": "code",
   "execution_count": 40,
   "metadata": {},
   "outputs": [
    {
     "name": "stdout",
     "output_type": "stream",
     "text": [
      "Drug fingerprint similarity and embedding similarity correlate at level r = 0.024\n"
     ]
    }
   ],
   "source": [
    "corr = pearsonr(df.fingerprint_similarity, df.cosine_similarity)\n",
    "print(f'Drug fingerprint similarity and embedding similarity correlate at level r = {corr[0]:.3f}')"
   ]
  }
 ],
 "metadata": {
  "kernelspec": {
   "display_name": "libkge",
   "language": "python",
   "name": "python3"
  },
  "language_info": {
   "codemirror_mode": {
    "name": "ipython",
    "version": 3
   },
   "file_extension": ".py",
   "mimetype": "text/x-python",
   "name": "python",
   "nbconvert_exporter": "python",
   "pygments_lexer": "ipython3",
   "version": "3.7.12"
  },
  "orig_nbformat": 4
 },
 "nbformat": 4,
 "nbformat_minor": 2
}
